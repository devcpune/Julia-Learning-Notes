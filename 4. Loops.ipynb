{
 "cells": [
  {
   "cell_type": "markdown",
   "metadata": {},
   "source": [
    "# Loops\n",
    "Types of loops in Julia:\n",
    "   1. `while`\n",
    "   2. `for`"
   ]
  },
  {
   "cell_type": "markdown",
   "metadata": {},
   "source": [
    "## While loops\n",
    "Syntax for `while` loop is:\n",
    "```julia\n",
    "    while *condition*\n",
    "        #some code\n",
    "    end\n",
    "```"
   ]
  },
  {
   "cell_type": "code",
   "execution_count": 16,
   "metadata": {},
   "outputs": [
    {
     "name": "stdout",
     "output_type": "stream",
     "text": [
      "7\n",
      "8\n",
      "9\n",
      "10\n",
      "11\n",
      "12\n",
      "13\n",
      "14\n",
      "15\n",
      "16\n",
      "17\n",
      "18\n",
      "19\n",
      "20\n"
     ]
    }
   ],
   "source": [
    "# Example to print 7-20 numbers\n",
    "num = 7\n",
    "while num <= 20\n",
    "    println(num) \n",
    "    num+=1\n",
    "end"
   ]
  },
  {
   "cell_type": "code",
   "execution_count": 23,
   "metadata": {},
   "outputs": [
    {
     "name": "stdout",
     "output_type": "stream",
     "text": [
      "Come Scooby ! lets go play!\n",
      "Come Dollor ! lets go play!\n",
      "Come Bolt ! lets go play!\n",
      "Come Snowy ! lets go play!\n",
      "Come Spike ! lets go play!\n",
      "Come Tyke ! lets go play!\n"
     ]
    }
   ],
   "source": [
    "# Examlpe to iterate over an array\n",
    "doggos = [\"Scooby\",\"Dollor\",\"Bolt\",\"Snowy\",\"Spike\",\"Tyke\"]\n",
    "idx = 1 # Remember index in Julia starts with 1?\n",
    "\n",
    "while idx <= length(doggos)\n",
    "    dog = doggos[idx]\n",
    "    println(\"Come $doggos[idx] ! lets go play!\")\n",
    "    idx+=1\n",
    "end"
   ]
  }
 ],
 "metadata": {
  "kernelspec": {
   "display_name": "Julia 1.4.1",
   "language": "julia",
   "name": "julia-1.4"
  },
  "language_info": {
   "file_extension": ".jl",
   "mimetype": "application/julia",
   "name": "julia",
   "version": "1.4.1"
  }
 },
 "nbformat": 4,
 "nbformat_minor": 4
}
