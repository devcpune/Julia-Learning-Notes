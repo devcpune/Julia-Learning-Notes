{
 "cells": [
  {
   "cell_type": "markdown",
   "metadata": {},
   "source": [
    "# Loops\n",
    "Types of loops in Julia:\n",
    "   1. `while`\n",
    "   2. `for`"
   ]
  },
  {
   "cell_type": "markdown",
   "metadata": {},
   "source": [
    "## While loops\n",
    "Syntax for `while` loop is:\n",
    "```julia\n",
    "    while *condition*\n",
    "        #some code\n",
    "    end\n",
    "```"
   ]
  },
  {
   "cell_type": "code",
   "execution_count": 16,
   "metadata": {},
   "outputs": [
    {
     "name": "stdout",
     "output_type": "stream",
     "text": [
      "7\n",
      "8\n",
      "9\n",
      "10\n",
      "11\n",
      "12\n",
      "13\n",
      "14\n",
      "15\n",
      "16\n",
      "17\n",
      "18\n",
      "19\n",
      "20\n"
     ]
    }
   ],
   "source": [
    "# Example to print 7-20 numbers\n",
    "num = 7\n",
    "while num <= 20\n",
    "    println(num) \n",
    "    num+=1\n",
    "end"
   ]
  },
  {
   "cell_type": "code",
   "execution_count": 31,
   "metadata": {},
   "outputs": [
    {
     "name": "stdout",
     "output_type": "stream",
     "text": [
      "Come Scooby lets go play!\n",
      "Come Dollor lets go play!\n",
      "Come Bolt lets go play!\n",
      "Come Snowy lets go play!\n",
      "Come Spike lets go play!\n",
      "Come Tyke lets go play!\n"
     ]
    }
   ],
   "source": [
    "# Examlpe to iterate over an array\n",
    "doggos = [\"Scooby\",\"Dollor\",\"Bolt\",\"Snowy\",\"Spike\",\"Tyke\"]\n",
    "idx = 1 # Remember index in Julia starts with 1?\n",
    "\n",
    "while idx <= length(doggos)\n",
    "    dog = doggos[idx]\n",
    "    println(\"Come $dog lets go play!\")\n",
    "    \n",
    "    # What do you think should this work? Is anything missing?\n",
    "    #println(\"Come $doggos[idx] lets go play!\")\n",
    "    \n",
    "    #How about this one?\n",
    "    #println(\"Come \"*doggos[idx]*\" lets go play!\")\n",
    "    idx+=1\n",
    "end\n",
    "\n"
   ]
  },
  {
   "cell_type": "markdown",
   "metadata": {},
   "source": [
    "## For loop\n",
    "\n",
    "Syntax for a `for` loop is\n",
    "\n",
    "```julia\n",
    "    \n",
    "    for *var* in *iterable*\n",
    "        #some code\n",
    "    end\n",
    "```"
   ]
  },
  {
   "cell_type": "markdown",
   "metadata": {},
   "source": [
    "We could use loops to generate same results as above:"
   ]
  },
  {
   "cell_type": "code",
   "execution_count": 34,
   "metadata": {},
   "outputs": [
    {
     "name": "stdout",
     "output_type": "stream",
     "text": [
      "7\n",
      "8\n",
      "9\n",
      "10\n",
      "11\n",
      "12\n",
      "13\n",
      "14\n",
      "15\n",
      "16\n",
      "17\n",
      "18\n",
      "19\n",
      "20\n"
     ]
    }
   ],
   "source": [
    "for num in 7:20 # Range is inclusive here. That means '7:20' represents range of 7 upto and including 20\n",
    "    println(num)\n",
    "end"
   ]
  },
  {
   "cell_type": "code",
   "execution_count": 44,
   "metadata": {
    "scrolled": true
   },
   "outputs": [
    {
     "name": "stdout",
     "output_type": "stream",
     "text": [
      "Come Scooby lets go play!\n",
      "Come Dollor lets go play!\n",
      "Come Bolt lets go play!\n",
      "Come Snowy lets go play!\n",
      "Come Spike lets go play!\n",
      "Come Tyke lets go play!\n"
     ]
    }
   ],
   "source": [
    "doggos = [\"Scooby\",\"Dollor\",\"Bolt\",\"Snowy\",\"Spike\",\"Tyke\"]\n",
    "for dog in doggos\n",
    "    println(\"Come $dog lets go play!\")\n",
    "end\n",
    "    "
   ]
  },
  {
   "cell_type": "markdown",
   "metadata": {},
   "source": [
    "Now lets try to build some addition tables using `for` i.e every entry is he sum of its row and column indices.\n",
    "\n",
    "First we create an  initial array with all zeros."
   ]
  },
  {
   "cell_type": "code",
   "execution_count": 46,
   "metadata": {},
   "outputs": [
    {
     "data": {
      "text/plain": [
       "5×5 Array{Int64,2}:\n",
       " 0  0  0  0  0\n",
       " 0  0  0  0  0\n",
       " 0  0  0  0  0\n",
       " 0  0  0  0  0\n",
       " 0  0  0  0  0"
      ]
     },
     "execution_count": 46,
     "metadata": {},
     "output_type": "execute_result"
    }
   ],
   "source": [
    "row ,col = 5, 5 #Number of rows and columns in our matrix (or 2D array)\n",
    "Mat = fill(0,(row,col)) #fill takes the element to fill and the dimensions or array"
   ]
  },
  {
   "cell_type": "code",
   "execution_count": 47,
   "metadata": {},
   "outputs": [],
   "source": [
    "for i in 1:row\n",
    "    for j in 1:col\n",
    "        Mat[i,j] = i + j\n",
    "    end\n",
    "end"
   ]
  },
  {
   "cell_type": "code",
   "execution_count": 48,
   "metadata": {},
   "outputs": [
    {
     "data": {
      "text/plain": [
       "5×5 Array{Int64,2}:\n",
       " 2  3  4  5   6\n",
       " 3  4  5  6   7\n",
       " 4  5  6  7   8\n",
       " 5  6  7  8   9\n",
       " 6  7  8  9  10"
      ]
     },
     "execution_count": 48,
     "metadata": {},
     "output_type": "execute_result"
    }
   ],
   "source": [
    "Mat"
   ]
  },
  {
   "cell_type": "markdown",
   "metadata": {},
   "source": [
    "Here's some syntactic sugar for the same nested `for` loop"
   ]
  },
  {
   "cell_type": "code",
   "execution_count": 49,
   "metadata": {},
   "outputs": [
    {
     "data": {
      "text/plain": [
       "5×5 Array{Int64,2}:\n",
       " 0  0  0  0  0\n",
       " 0  0  0  0  0\n",
       " 0  0  0  0  0\n",
       " 0  0  0  0  0\n",
       " 0  0  0  0  0"
      ]
     },
     "execution_count": 49,
     "metadata": {},
     "output_type": "execute_result"
    }
   ],
   "source": [
    "Mat2 = fill(0,(row,col))"
   ]
  },
  {
   "cell_type": "code",
   "execution_count": 50,
   "metadata": {},
   "outputs": [],
   "source": [
    "for i in 1:row, j in 1:col\n",
    "    Mat2[i,j] = i+j\n",
    "end"
   ]
  },
  {
   "cell_type": "markdown",
   "metadata": {},
   "source": [
    "Here's a more \"Julian\" approach to do the same by array comprehension"
   ]
  },
  {
   "cell_type": "code",
   "execution_count": 51,
   "metadata": {},
   "outputs": [
    {
     "data": {
      "text/plain": [
       "5×5 Array{Int64,2}:\n",
       " 2  3  4  5   6\n",
       " 3  4  5  6   7\n",
       " 4  5  6  7   8\n",
       " 5  6  7  8   9\n",
       " 6  7  8  9  10"
      ]
     },
     "execution_count": 51,
     "metadata": {},
     "output_type": "execute_result"
    }
   ],
   "source": [
    "Mat3 = [i+j for i in 1:row,j in 1:col]"
   ]
  },
  {
   "cell_type": "code",
   "execution_count": 70,
   "metadata": {},
   "outputs": [
    {
     "name": "stdout",
     "output_type": "stream",
     "text": [
      "1 4 9 16 25 36 49 64 81 100 121 144 169 196 225 256 289 324 361 400 441 484 529 576 625 676 729 784 841 900 961 1024 1089 1156 1225 1296 1369 1444 1521 1600 1681 1764 1849 1936 2025 2116 2209 2304 2401 2500 2601 2704 2809 2916 3025 3136 3249 3364 3481 3600 3721 3844 3969 4096 4225 4356 4489 4624 4761 4900 5041 5184 5329 5476 5625 5776 5929 6084 6241 6400 6561 6724 6889 7056 7225 7396 7569 7744 7921 8100 8281 8464 8649 8836 9025 9216 9409 9604 9801 10000 "
     ]
    }
   ],
   "source": [
    "# Printing sqaures\n",
    "for num in 1:100\n",
    "    print(\"$(num^2) \")\n",
    "end"
   ]
  },
  {
   "cell_type": "code",
   "execution_count": 60,
   "metadata": {},
   "outputs": [],
   "source": [
    "squares = Dict()\n",
    "for num in 1:100\n",
    "    squares[num] = num^2\n",
    "end"
   ]
  },
  {
   "cell_type": "code",
   "execution_count": 61,
   "metadata": {},
   "outputs": [
    {
     "data": {
      "text/plain": [
       "Dict{Any,Any} with 100 entries:\n",
       "  68 => 4624\n",
       "  2  => 4\n",
       "  89 => 7921\n",
       "  11 => 121\n",
       "  39 => 1521\n",
       "  46 => 2116\n",
       "  85 => 7225\n",
       "  25 => 625\n",
       "  55 => 3025\n",
       "  42 => 1764\n",
       "  29 => 841\n",
       "  58 => 3364\n",
       "  66 => 4356\n",
       "  59 => 3481\n",
       "  8  => 64\n",
       "  74 => 5476\n",
       "  95 => 9025\n",
       "  57 => 3249\n",
       "  20 => 400\n",
       "  90 => 8100\n",
       "  14 => 196\n",
       "  31 => 961\n",
       "  78 => 6084\n",
       "  70 => 4900\n",
       "  33 => 1089\n",
       "  ⋮  => ⋮"
      ]
     },
     "execution_count": 61,
     "metadata": {},
     "output_type": "execute_result"
    }
   ],
   "source": [
    "squares"
   ]
  },
  {
   "cell_type": "code",
   "execution_count": 71,
   "metadata": {},
   "outputs": [],
   "source": [
    "@assert squares[10] == 100 # @assert throws an error if the condition is false\n",
    "@assert squares[11] == 121"
   ]
  },
  {
   "cell_type": "code",
   "execution_count": 69,
   "metadata": {},
   "outputs": [],
   "source": [
    "# Squares using Array comprehension\n",
    "squares_arr = [num^2 for num in 1:100]\n",
    "@assert length(squares_arr) == 100\n",
    "@assert sum(squares_arr) == 338350"
   ]
  }
 ],
 "metadata": {
  "kernelspec": {
   "display_name": "Julia 1.4.1",
   "language": "julia",
   "name": "julia-1.4"
  },
  "language_info": {
   "file_extension": ".jl",
   "mimetype": "application/julia",
   "name": "julia",
   "version": "1.4.1"
  }
 },
 "nbformat": 4,
 "nbformat_minor": 4
}
