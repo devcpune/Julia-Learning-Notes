{
 "cells": [
  {
   "cell_type": "markdown",
   "metadata": {},
   "source": [
    "# Strings in Julia\n",
    "* Strings can be represented by \" \" or \"\"\" \"\"\"\n",
    "* ' ' is used for characters"
   ]
  },
  {
   "cell_type": "code",
   "execution_count": 18,
   "metadata": {},
   "outputs": [
    {
     "data": {
      "text/plain": [
       "String"
      ]
     },
     "execution_count": 18,
     "metadata": {},
     "output_type": "execute_result"
    }
   ],
   "source": [
    "my_string = \"String with double quotes\"\n",
    "typeof(my_string)"
   ]
  },
  {
   "cell_type": "code",
   "execution_count": 14,
   "metadata": {},
   "outputs": [
    {
     "data": {
      "text/plain": [
       "Char"
      ]
     },
     "execution_count": 14,
     "metadata": {},
     "output_type": "execute_result"
    }
   ],
   "source": [
    "my_string = 'S'\n",
    "typeof(my_string)"
   ]
  },
  {
   "cell_type": "code",
   "execution_count": 19,
   "metadata": {},
   "outputs": [
    {
     "data": {
      "text/plain": [
       "String"
      ]
     },
     "execution_count": 19,
     "metadata": {},
     "output_type": "execute_result"
    }
   ],
   "source": [
    "my_string = \"\"\"String with triple double quotes\"\"\"\n",
    "typeof(my_string)"
   ]
  },
  {
   "cell_type": "markdown",
   "metadata": {},
   "source": [
    "## Why to use \"\"\" again?"
   ]
  },
  {
   "cell_type": "code",
   "execution_count": 20,
   "metadata": {},
   "outputs": [
    {
     "ename": "LoadError",
     "evalue": "syntax: extra token \"Double\" after end of expression",
     "output_type": "error",
     "traceback": [
      "syntax: extra token \"Double\" after end of expression",
      ""
     ]
    }
   ],
   "source": [
    "my_string = \"I want to use \" Double qoute \"let me use it\""
   ]
  },
  {
   "cell_type": "code",
   "execution_count": 21,
   "metadata": {},
   "outputs": [
    {
     "data": {
      "text/plain": [
       "\"I want to use \\\" Double qoute \\\"let me use it\""
      ]
     },
     "execution_count": 21,
     "metadata": {},
     "output_type": "execute_result"
    }
   ],
   "source": [
    "my_string = \"\"\"I want to use \" Double qoute \"let me use it\"\"\""
   ]
  },
  {
   "cell_type": "markdown",
   "metadata": {},
   "source": [
    "## Evaluating values within string or \"String interpolation\"\n",
    "\n",
    "'$' sign can be used to insert value of existing variable or eavluate an expression"
   ]
  },
  {
   "cell_type": "code",
   "execution_count": 26,
   "metadata": {},
   "outputs": [
    {
     "name": "stdout",
     "output_type": "stream",
     "text": [
      "Julia is my language,\n",
      "And 21 is my age!\n",
      "Programming is  so much fun,\n",
      "And 3 times 7 is 21!\n"
     ]
    }
   ],
   "source": [
    "my_language = \"Julia\"\n",
    "my_age = 21 \n",
    "println(\"$my_language is my language,\")\n",
    "println(\"And $my_age is my age!\")\n",
    "println(\"Programming is  so much fun,\")\n",
    "println(\"And 3 times 7 is $(3*7)!\")"
   ]
  },
  {
   "cell_type": "markdown",
   "metadata": {},
   "source": [
    "## String Concatenation\n",
    "* Using **string()** function\n",
    "* Using ***** operator\n",
    "* Using String interpolation"
   ]
  },
  {
   "cell_type": "code",
   "execution_count": 43,
   "metadata": {},
   "outputs": [
    {
     "data": {
      "text/plain": [
       "\"I have 1 string I have another string\""
      ]
     },
     "execution_count": 43,
     "metadata": {},
     "output_type": "execute_result"
    }
   ],
   "source": [
    "# 1. using string() function\n",
    "s1 = string(\"I have \", 1, \" string \", \"I have another string\")\n",
    "\n",
    "s1 #Notice you can pass any type of value in sting() function"
   ]
  },
  {
   "cell_type": "code",
   "execution_count": 46,
   "metadata": {},
   "outputs": [
    {
     "data": {
      "text/plain": [
       "\"I have 1 string I have another stringAanh CONCATENATE\""
      ]
     },
     "execution_count": 46,
     "metadata": {},
     "output_type": "execute_result"
    }
   ],
   "source": [
    "# 2. using * operator\n",
    "s2 = \"Aanh CONCATENATE\"\n",
    "\n",
    "s1*s2"
   ]
  },
  {
   "cell_type": "code",
   "execution_count": 48,
   "metadata": {},
   "outputs": [
    {
     "name": "stdout",
     "output_type": "stream",
     "text": [
      "I have 2 strings I have 2 $ Aanh INTERPOLATE"
     ]
    }
   ],
   "source": [
    "# 3. using string interpolation\n",
    "s3 = \"I have 2 strings\"\n",
    "s4 = \"I have 2 \\$\"\n",
    "\n",
    "print(\"$s3 $s4 Aanh INTERPOLATE\")"
   ]
  }
 ],
 "metadata": {
  "kernelspec": {
   "display_name": "Julia 1.4.1",
   "language": "julia",
   "name": "julia-1.4"
  },
  "language_info": {
   "file_extension": ".jl",
   "mimetype": "application/julia",
   "name": "julia",
   "version": "1.4.1"
  }
 },
 "nbformat": 4,
 "nbformat_minor": 4
}
