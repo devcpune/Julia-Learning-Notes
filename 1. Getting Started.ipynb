{
 "cells": [
  {
   "cell_type": "markdown",
   "metadata": {},
   "source": [
    "# Getting Started\n",
    "\n",
    "Let's get started by performing some basic operations in Julia."
   ]
  },
  {
   "cell_type": "markdown",
   "metadata": {},
   "source": [
    "## Math operations"
   ]
  },
  {
   "cell_type": "code",
   "execution_count": 27,
   "metadata": {},
   "outputs": [
    {
     "data": {
      "text/plain": [
       "5"
      ]
     },
     "execution_count": 27,
     "metadata": {},
     "output_type": "execute_result"
    }
   ],
   "source": [
    "#Addition\n",
    "2+3"
   ]
  },
  {
   "cell_type": "code",
   "execution_count": 28,
   "metadata": {},
   "outputs": [
    {
     "data": {
      "text/plain": [
       "331"
      ]
     },
     "execution_count": 28,
     "metadata": {},
     "output_type": "execute_result"
    }
   ],
   "source": [
    "#Subtraction\n",
    "556-225"
   ]
  },
  {
   "cell_type": "code",
   "execution_count": 29,
   "metadata": {},
   "outputs": [
    {
     "data": {
      "text/plain": [
       "111111111111111111111111111111111111111111111111111000000000000000000000888888888889999999999999984444444444444444400000000000000000000000000000000000000000000000000000000000000000000000000000000000000000000000000000000000000000"
      ]
     },
     "execution_count": 29,
     "metadata": {},
     "output_type": "execute_result"
    }
   ],
   "source": [
    "#Multiplication of largeeeee numbers\n",
    "200000000000000000000000000000000000000000000000000000000000000000000000000000000000000000000000000000000000000000*555555555555555555555555555555555555555555555555555000000000000000000004444444444449999999999999922222222222222222"
   ]
  },
  {
   "cell_type": "code",
   "execution_count": 30,
   "metadata": {},
   "outputs": [
    {
     "data": {
      "text/plain": [
       "1343.4705882352941"
      ]
     },
     "execution_count": 30,
     "metadata": {},
     "output_type": "execute_result"
    }
   ],
   "source": [
    "#Division\n",
    "45678/34"
   ]
  },
  {
   "cell_type": "code",
   "execution_count": 31,
   "metadata": {},
   "outputs": [
    {
     "data": {
      "text/plain": [
       "22839//17"
      ]
     },
     "execution_count": 31,
     "metadata": {},
     "output_type": "execute_result"
    }
   ],
   "source": [
    "#Fraction Division\n",
    "45678//34"
   ]
  },
  {
   "cell_type": "code",
   "execution_count": 32,
   "metadata": {},
   "outputs": [
    {
     "data": {
      "text/plain": [
       "Int64"
      ]
     },
     "execution_count": 32,
     "metadata": {},
     "output_type": "execute_result"
    }
   ],
   "source": [
    "#power\n",
    "pow = 9999^64\n",
    "typeof(pow)"
   ]
  },
  {
   "cell_type": "code",
   "execution_count": 33,
   "metadata": {},
   "outputs": [
    {
     "data": {
      "text/plain": [
       "16"
      ]
     },
     "execution_count": 33,
     "metadata": {},
     "output_type": "execute_result"
    }
   ],
   "source": [
    "#Remainder (modulus)\n",
    "45678%34"
   ]
  },
  {
   "cell_type": "markdown",
   "metadata": {},
   "source": [
    "**Here is a cool trick:**\n",
    "try printing 'ans' to the console you will get the last evaluated result."
   ]
  },
  {
   "cell_type": "code",
   "execution_count": 34,
   "metadata": {},
   "outputs": [
    {
     "data": {
      "text/plain": [
       "16"
      ]
     },
     "execution_count": 34,
     "metadata": {},
     "output_type": "execute_result"
    }
   ],
   "source": [
    "ans"
   ]
  },
  {
   "cell_type": "markdown",
   "metadata": {},
   "source": [
    "## Printing in julia\n",
    "Often we need to show some message to the user, we can use print function for the same:"
   ]
  },
  {
   "cell_type": "markdown",
   "metadata": {},
   "source": [
    "The simplest way of printing something is:"
   ]
  },
  {
   "cell_type": "code",
   "execution_count": 35,
   "metadata": {},
   "outputs": [
    {
     "name": "stdout",
     "output_type": "stream",
     "text": [
      "Hello Julia!"
     ]
    }
   ],
   "source": [
    "print(\"Hello Julia!\")"
   ]
  },
  {
   "cell_type": "markdown",
   "metadata": {},
   "source": [
    "The `println` function has `\\n` (new line) as the last character that simply means that if we have multiple print statements, all of them will be printed on new lines. Let's take an example to understand this bit more clearly:"
   ]
  },
  {
   "cell_type": "code",
   "execution_count": 36,
   "metadata": {},
   "outputs": [
    {
     "name": "stdout",
     "output_type": "stream",
     "text": [
      "I am\n",
      "printing\n",
      "on different\n",
      "lines\n",
      "I amprintingon differentlines"
     ]
    }
   ],
   "source": [
    "println(\"I am\")\n",
    "println(\"printing\")\n",
    "println(\"on different\")\n",
    "println(\"lines\")\n",
    "\n",
    "#vs\n",
    "\n",
    "print(\"I am\")\n",
    "print(\"printing\")\n",
    "print(\"on different\")\n",
    "print(\"lines\")"
   ]
  },
  {
   "cell_type": "markdown",
   "metadata": {},
   "source": [
    "We can use `printstyled` for more stylish print texts:"
   ]
  },
  {
   "cell_type": "code",
   "execution_count": 37,
   "metadata": {},
   "outputs": [
    {
     "name": "stdout",
     "output_type": "stream",
     "text": [
      "\u001b[34m\u001b[1mHello Again\u001b[22m\u001b[39m"
     ]
    }
   ],
   "source": [
    "printstyled(\"Hello Again\",bold=true,color=:blue)"
   ]
  },
  {
   "cell_type": "markdown",
   "metadata": {},
   "source": [
    "Lets explore some more stylish paramenters available in `printstyled`:"
   ]
  },
  {
   "cell_type": "code",
   "execution_count": 38,
   "metadata": {},
   "outputs": [
    {
     "data": {
      "text/latex": [
       "\\begin{verbatim}\n",
       "printstyled([io], xs...; bold::Bool=false, color::Union{Symbol,Int}=:normal)\n",
       "\\end{verbatim}\n",
       "Print \\texttt{xs} in a color specified as a symbol or integer, optionally in bold.\n",
       "\n",
       "\\texttt{color} may take any of the values \\texttt{:normal}, \\texttt{:default}, \\texttt{:bold}, \\texttt{:black}, \\texttt{:blink}, \\texttt{:blue}, \\texttt{:cyan}, \\texttt{:green}, \\texttt{:hidden}, \\texttt{:light\\_black}, \\texttt{:light\\_blue}, \\texttt{:light\\_cyan}, \\texttt{:light\\_green}, \\texttt{:light\\_magenta}, \\texttt{:light\\_red}, \\texttt{:light\\_yellow}, \\texttt{:magenta}, \\texttt{:nothing}, \\texttt{:red}, \\texttt{:reverse}, \\texttt{:underline}, \\texttt{:white}, or  \\texttt{:yellow} or an integer between 0 and 255 inclusive. Note that not all terminals support 256 colors. If the keyword \\texttt{bold} is given as \\texttt{true}, the result will be printed in bold.\n",
       "\n"
      ],
      "text/markdown": [
       "```\n",
       "printstyled([io], xs...; bold::Bool=false, color::Union{Symbol,Int}=:normal)\n",
       "```\n",
       "\n",
       "Print `xs` in a color specified as a symbol or integer, optionally in bold.\n",
       "\n",
       "`color` may take any of the values `:normal`, `:default`, `:bold`, `:black`, `:blink`, `:blue`, `:cyan`, `:green`, `:hidden`, `:light_black`, `:light_blue`, `:light_cyan`, `:light_green`, `:light_magenta`, `:light_red`, `:light_yellow`, `:magenta`, `:nothing`, `:red`, `:reverse`, `:underline`, `:white`, or  `:yellow` or an integer between 0 and 255 inclusive. Note that not all terminals support 256 colors. If the keyword `bold` is given as `true`, the result will be printed in bold.\n"
      ],
      "text/plain": [
       "\u001b[36m  printstyled([io], xs...; bold::Bool=false, color::Union{Symbol,Int}=:normal)\u001b[39m\n",
       "\n",
       "  Print \u001b[36mxs\u001b[39m in a color specified as a symbol or integer, optionally in bold.\n",
       "\n",
       "  \u001b[36mcolor\u001b[39m may take any of the values \u001b[36m:normal\u001b[39m, \u001b[36m:default\u001b[39m, \u001b[36m:bold\u001b[39m, \u001b[36m:black\u001b[39m, \u001b[36m:blink\u001b[39m,\n",
       "  \u001b[36m:blue\u001b[39m, \u001b[36m:cyan\u001b[39m, \u001b[36m:green\u001b[39m, \u001b[36m:hidden\u001b[39m, \u001b[36m:light_black\u001b[39m, \u001b[36m:light_blue\u001b[39m, \u001b[36m:light_cyan\u001b[39m,\n",
       "  \u001b[36m:light_green\u001b[39m, \u001b[36m:light_magenta\u001b[39m, \u001b[36m:light_red\u001b[39m, \u001b[36m:light_yellow\u001b[39m, \u001b[36m:magenta\u001b[39m, \u001b[36m:nothing\u001b[39m,\n",
       "  \u001b[36m:red\u001b[39m, \u001b[36m:reverse\u001b[39m, \u001b[36m:underline\u001b[39m, \u001b[36m:white\u001b[39m, or \u001b[36m:yellow\u001b[39m or an integer between 0 and\n",
       "  255 inclusive. Note that not all terminals support 256 colors. If the\n",
       "  keyword \u001b[36mbold\u001b[39m is given as \u001b[36mtrue\u001b[39m, the result will be printed in bold."
      ]
     },
     "execution_count": 38,
     "metadata": {},
     "output_type": "execute_result"
    }
   ],
   "source": [
    "? printstyled()"
   ]
  },
  {
   "cell_type": "markdown",
   "metadata": {},
   "source": [
    " **Tip:** use ? to get help on anything julia.\n",
    " \n",
    "__The help cell should not contain any other statements.__"
   ]
  },
  {
   "cell_type": "markdown",
   "metadata": {},
   "source": [
    "## Variables\n",
    "Variables are containers which holds some value. Suppose we require to use a value multiple times at multiple places, one can tend to write it incorrectly at some place for example, you are writing a mail to xyz person and you have to write 500 such mails to 500 different person, you can tend to mess up the spelling at some place so instead we just use the variable `name` everywhere and we can change value of `name` depending on recipient.\n",
    "\n",
    "Remember variable is called variable because its value can be changed.\n",
    "\n",
    "**Rules to declare variable:**\n",
    "* Julia provides an extremely flexible system for naming variables. Variable names are case-sensitive, and have no semantic meaning (that is, the language will not treat variables differently based on their names).\n",
    "* You can even have unicode characters as variable names. How cool is that?"
   ]
  },
  {
   "cell_type": "markdown",
   "metadata": {},
   "source": [
    "To define a variable we can just write: `variable_name = value`\n",
    "i.e we use `=` to assign value to the variable."
   ]
  },
  {
   "cell_type": "code",
   "execution_count": 39,
   "metadata": {},
   "outputs": [
    {
     "data": {
      "text/plain": [
       "String"
      ]
     },
     "execution_count": 39,
     "metadata": {},
     "output_type": "execute_result"
    }
   ],
   "source": [
    "myname = \"Shriaas\"\n",
    "typeof(myname)"
   ]
  },
  {
   "cell_type": "markdown",
   "metadata": {},
   "source": [
    "A variable can contain any type of value and we can get the type of a value/variable using the `typeof()` function:"
   ]
  },
  {
   "cell_type": "code",
   "execution_count": 40,
   "metadata": {},
   "outputs": [
    {
     "data": {
      "text/plain": [
       "Int64"
      ]
     },
     "execution_count": 40,
     "metadata": {},
     "output_type": "execute_result"
    }
   ],
   "source": [
    "mynumber = 42\n",
    "typeof(mynumber)"
   ]
  },
  {
   "cell_type": "code",
   "execution_count": 41,
   "metadata": {},
   "outputs": [
    {
     "data": {
      "text/plain": [
       "Float64"
      ]
     },
     "execution_count": 41,
     "metadata": {},
     "output_type": "execute_result"
    }
   ],
   "source": [
    "mypi = 3.1415\n",
    "typeof(mypi)"
   ]
  },
  {
   "cell_type": "code",
   "execution_count": 42,
   "metadata": {},
   "outputs": [
    {
     "data": {
      "text/plain": [
       "Int64"
      ]
     },
     "execution_count": 42,
     "metadata": {},
     "output_type": "execute_result"
    }
   ],
   "source": [
    "# Julia is dynamically typed! \n",
    "#that means you can change the type of value a variable stores.\n",
    "my_name = 124\n",
    "typeof(my_name)"
   ]
  },
  {
   "cell_type": "markdown",
   "metadata": {},
   "source": [
    "Remember we cannot use keywords like `if`, `else`, `for` etc as variable names because the have a special meaning. Checkout [this link](https://docs.julialang.org/en/v1/manual/variables/#Allowed-Variable-Names-1) for more information on variable naming conventions."
   ]
  },
  {
   "cell_type": "markdown",
   "metadata": {},
   "source": [
    "**Using unicode characters in Julia:**\n",
    "\n",
    "We can assign a variable like: $\\sum$ = 1+2+34+7, and it will store the sum of the supplied numbers. This is more natural way of processing since we know $\\sum$ denotes summation. To use the $\\sum$ character type `\\sum` and hit tab:\n"
   ]
  },
  {
   "cell_type": "code",
   "execution_count": 43,
   "metadata": {},
   "outputs": [
    {
     "data": {
      "text/plain": [
       "44"
      ]
     },
     "execution_count": 43,
     "metadata": {},
     "output_type": "execute_result"
    }
   ],
   "source": [
    "∑ = 1+2+34+7"
   ]
  },
  {
   "cell_type": "code",
   "execution_count": 44,
   "metadata": {},
   "outputs": [
    {
     "data": {
      "text/plain": [
       "Int64"
      ]
     },
     "execution_count": 44,
     "metadata": {},
     "output_type": "execute_result"
    }
   ],
   "source": [
    "typeof(∑)"
   ]
  },
  {
   "cell_type": "markdown",
   "metadata": {},
   "source": [
    "In a similar way you can try using `\\delta`, `\\del`,`\\eta`, `\\theta`, `\\alpha` etc. Type `\\` and hit enter to get list of suggestion in jupyter notebook. Go ahead try it yourself:"
   ]
  },
  {
   "cell_type": "code",
   "execution_count": null,
   "metadata": {},
   "outputs": [],
   "source": []
  },
  {
   "cell_type": "markdown",
   "metadata": {},
   "source": [
    "## Comments\n",
    "Suppose you have developed an amazing app and now you want to give code to someone. There is a high possibility that the other person may not understand the code or your logic fully, and you cannot be available all the time to explain it line by line. What to do now? In programming, we use comments to basically explain what the code is doing or why it is written that way. It is a good practice to write comments because there is a chance that after some time even you would find it difficult to understand. Comments are not interepreted i.e they do not hold any value or meaning for the interpreter/compiler, they are just there for humans.\n",
    "\n",
    "You can write comments in Julia in 2 ways:"
   ]
  },
  {
   "cell_type": "code",
   "execution_count": 45,
   "metadata": {},
   "outputs": [],
   "source": [
    "#Till now we have seen single line comments like this."
   ]
  },
  {
   "cell_type": "code",
   "execution_count": 46,
   "metadata": {},
   "outputs": [],
   "source": [
    "#= But you can also write very longggggggg\n",
    "ggggggggggggggggggggggggggggggggggg\n",
    "gggggggggggggggggggggggggggggggggg\n",
    "gggggggggggggggggggggggggggggggggg\n",
    "comments which require multilines like \n",
    "this =#"
   ]
  },
  {
   "cell_type": "code",
   "execution_count": null,
   "metadata": {},
   "outputs": [],
   "source": []
  }
 ],
 "metadata": {
  "kernelspec": {
   "display_name": "Julia 1.4.1",
   "language": "julia",
   "name": "julia-1.4"
  },
  "language_info": {
   "file_extension": ".jl",
   "mimetype": "application/julia",
   "name": "julia",
   "version": "1.4.1"
  }
 },
 "nbformat": 4,
 "nbformat_minor": 4
}
